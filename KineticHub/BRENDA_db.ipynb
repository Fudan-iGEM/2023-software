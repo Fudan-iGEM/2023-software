{
 "cells": [
  {
   "cell_type": "markdown",
   "metadata": {},
   "source": [
    "Due to BRENDA's license, you have to download the database as a text file after accepting usage conditions [here](https://www.brenda-enzymes.org/download.php)."
   ]
  },
  {
   "cell_type": "markdown",
   "metadata": {},
   "source": [
    "# Load data"
   ]
  },
  {
   "cell_type": "code",
   "execution_count": 1,
   "metadata": {},
   "outputs": [],
   "source": [
    "from brendapyrser import BRENDA\n",
    "dataFile = 'data/brenda_2023_1.txt'\n",
    "brenda = BRENDA(dataFile)"
   ]
  },
  {
   "cell_type": "markdown",
   "metadata": {},
   "source": [
    "# Create Reaction Database"
   ]
  },
  {
   "cell_type": "code",
   "execution_count": 4,
   "metadata": {},
   "outputs": [],
   "source": [
    "reaction_ec_numbers = []\n",
    "reaction_ec_annotation = []\n",
    "reaction_names = []\n",
    "reaction_systematic_name = []\n",
    "reaction_str = []\n",
    "reaction_type = []\n",
    "reaction_substrates = []\n",
    "reaction_products = []\n",
    "data = []"
   ]
  },
  {
   "cell_type": "code",
   "execution_count": 6,
   "metadata": {},
   "outputs": [],
   "source": [
    "from utils import extract_substrates,extract_products, extract_just_ec_number, extract_ec_annotation, merge_substrates\n",
    "import json\n",
    "for r in brenda.reactions:\n",
    "    reaction_ec_numbers.append(extract_just_ec_number(r.ec_number))\n",
    "    reaction_ec_annotation.append(extract_ec_annotation(r.ec_number))\n",
    "    reaction_names.append(r.name)\n",
    "    reaction_systematic_name.append(r.systematic_name)\n",
    "    reaction_str.append(r.reaction_str)\n",
    "    reaction_type.append(r.reaction_type)\n",
    "    reaction_substrates.append(merge_substrates(extract_substrates(r.substratesAndProducts),r))\n",
    "    reaction_products.append(extract_products(r.substratesAndProducts))\n",
    "    item = {\n",
    "        'ec_number': extract_just_ec_number(r.ec_number),\n",
    "        'ec_annotation': extract_ec_annotation(r.ec_number),\n",
    "        'name': r.name,\n",
    "        'systematic_name': r.systematic_name,\n",
    "        'str': r.reaction_str,\n",
    "        'type': r.reaction_type,\n",
    "        'substrates': json.dumps(extract_substrates(r.substratesAndProducts)),\n",
    "        'products': json.dumps(extract_products(r.substratesAndProducts))\n",
    "    }\n",
    "    for key in item.keys():\n",
    "        if not item[key]:\n",
    "            item[key] = None\n",
    "    if item['ec_number']:\n",
    "        data.append(item)"
   ]
  },
  {
   "cell_type": "code",
   "execution_count": 8,
   "metadata": {},
   "outputs": [],
   "source": [
    "# with mysql running\n",
    "import pymysql\n",
    "db_config = {\n",
    "    'host': 'localhost',\n",
    "    'user': 'root',\n",
    "    'password': '123456',\n",
    "    'charset':'utf8mb4'\n",
    "}\n",
    "try:\n",
    "    connection = pymysql.connect(**db_config)\n",
    "    cursor = connection.cursor()\n",
    "except pymysql.Error as e:\n",
    "    print(\"Database connection error:\", e)\n",
    "try:\n",
    "    cursor.execute(f\"CREATE DATABASE IF NOT EXISTS Reaction\")\n",
    "    cursor.execute(f\"USE Reaction\")\n",
    "    cursor.execute(\"\"\"\n",
    "            CREATE TABLE IF NOT EXISTS reactions (\n",
    "                ec_number VARCHAR(20) PRIMARY KEY, \n",
    "                ec_annotation TEXT,\n",
    "                name VARCHAR(100),\n",
    "                systematic_name VARCHAR(100),\n",
    "                str TEXT,\n",
    "                type VARCHAR(100),\n",
    "                substrates JSON,\n",
    "                products JSON\n",
    "            ) CHARACTER SET utf8mb4;\"\"\")\n",
    "    for item in data:\n",
    "        try:\n",
    "            insert_query = f\"INSERT INTO reactions ({', '.join(item.keys())}) VALUES ({', '.join(['%s'] * len(item))})\"\n",
    "            cursor.execute(insert_query, tuple(item.values()))\n",
    "        except pymysql.Error as e:\n",
    "            print(e)\n",
    "    connection.commit()\n",
    "    query = f\"SELECT * FROM reactions WHERE ec_number = %s\"\n",
    "    cursor.execute(query, ('1.1.1.1'))\n",
    "    rows = cursor.fetchall()\n",
    "    cursor.close()\n",
    "    connection.close()\n",
    "except pymysql.Error as e:\n",
    "    print(e)"
   ]
  },
  {
   "cell_type": "code",
   "execution_count": 16,
   "metadata": {},
   "outputs": [],
   "source": [
    "try:\n",
    "    connection = pymysql.connect(**db_config)\n",
    "    cursor = connection.cursor()\n",
    "except pymysql.Error as e:\n",
    "    print(\"Database connection error:\", e)\n",
    "try:\n",
    "    cursor.execute(f\"USE Reaction\")\n",
    "    query = f\"SELECT * FROM reactions WHERE ec_number = %s\"\n",
    "    cursor.execute(query, ('1.1.2.10'))\n",
    "    rows = cursor.fetchall()\n",
    "except pymysql.Error as e:\n",
    "    print(e)"
   ]
  },
  {
   "cell_type": "code",
   "execution_count": 17,
   "metadata": {},
   "outputs": [
    {
     "data": {
      "text/plain": [
       "(('1.1.2.10',\n",
       "  None,\n",
       "  'Lanthanide-dependent methanol dehydrogenase',\n",
       "  'methanol:cytochrome cL oxidoreductase',\n",
       "  None,\n",
       "  None,\n",
       "  '[\"2 oxidized cytochrome cL\", \"oxidized cytochrome c XoxG\", \"2 oxidized cytochrome cGJ\", \"2 cytochrome cGJ\", \"methanol\"]',\n",
       "  '[\"formaldehyde\", \"2 reducedcytochrome cGJ\", \"reducedcytochrome c XoxG\", \"2 reducedcytochrome cL\"]'),)"
      ]
     },
     "execution_count": 17,
     "metadata": {},
     "output_type": "execute_result"
    }
   ],
   "source": [
    "rows"
   ]
  },
  {
   "cell_type": "markdown",
   "metadata": {},
   "source": [
    "# Create Enzyme Database"
   ]
  },
  {
   "cell_type": "markdown",
   "metadata": {},
   "source": [
    "## For $k_{m}$"
   ]
  },
  {
   "cell_type": "code",
   "execution_count": 5,
   "metadata": {},
   "outputs": [
    {
     "name": "stderr",
     "output_type": "stream",
     "text": [
      "100%|██████████| 7832/7832 [1:11:00<00:00,  1.84it/s]   \n"
     ]
    }
   ],
   "source": [
    "# this may take a couple of minutes(about 71 mins on Intel i5-13400, wsl2: ubuntu20.04)\n",
    "from utils import parse_km, extract_just_ec_number\n",
    "from tqdm import tqdm\n",
    "import json\n",
    "i = 1\n",
    "data_km = []\n",
    "for r in tqdm(brenda.reactions):\n",
    "    for substrate in parse_km(r).keys():\n",
    "        ec_number = extract_just_ec_number(r.ec_number)\n",
    "        for record in parse_km(r)[substrate]:\n",
    "            k_m = record.get('value')\n",
    "            species = json.dumps(record.get('species'))\n",
    "            meta = record.get('meta')\n",
    "            refs = json.dumps(record.get('refs'))\n",
    "            item = {\n",
    "                'id': str(i),\n",
    "                'ec_number': ec_number,\n",
    "                'k_m':k_m,\n",
    "                'species':species,\n",
    "                'meta': meta,\n",
    "                'refs':refs,\n",
    "                'substrate': substrate\n",
    "            }\n",
    "            for key in item.keys():\n",
    "                if not item[key]:\n",
    "                    item[key] = None\n",
    "            if item['ec_number']:\n",
    "                data_km.append(item)\n",
    "                i += 1"
   ]
  },
  {
   "cell_type": "code",
   "execution_count": 12,
   "metadata": {},
   "outputs": [
    {
     "name": "stderr",
     "output_type": "stream",
     "text": [
      "100%|██████████| 181460/181460 [01:04<00:00, 2793.35it/s]\n"
     ]
    }
   ],
   "source": [
    "# with mysql running\n",
    "import pymysql\n",
    "from tqdm import tqdm\n",
    "db_config = {\n",
    "    'host': 'localhost',\n",
    "    'user': 'root',\n",
    "    'password': '123456',\n",
    "    'charset':'utf8mb4'\n",
    "}\n",
    "try:\n",
    "    connection = pymysql.connect(**db_config)\n",
    "    cursor = connection.cursor()\n",
    "except pymysql.Error as e:\n",
    "    print(\"Database connection error:\", e)\n",
    "try:\n",
    "    cursor.execute(f\"CREATE DATABASE IF NOT EXISTS KM\")\n",
    "    cursor.execute(f\"USE KM\")\n",
    "    cursor.execute(\"\"\"\n",
    "            CREATE TABLE IF NOT EXISTS km (\n",
    "                id INT PRIMARY KEY,\n",
    "                ec_number VARCHAR(20), \n",
    "                k_m FLOAT,\n",
    "                species JSON,\n",
    "                meta TEXT,\n",
    "                refs JSON,\n",
    "                substrate TEXT\n",
    "            ) CHARACTER SET utf8mb4;\"\"\")\n",
    "    for item in tqdm(data_km):\n",
    "        try:\n",
    "            insert_query = f\"INSERT INTO km ({', '.join(item.keys())}) VALUES ({', '.join(['%s'] * len(item))})\"\n",
    "            cursor.execute(insert_query, tuple(item.values()))\n",
    "        except pymysql.Error as e:\n",
    "            print(e)\n",
    "    connection.commit()\n",
    "    query = f\"SELECT * FROM km WHERE ec_number = %s\"\n",
    "    cursor.execute(query, ('1.1.1.1'))\n",
    "    rows = cursor.fetchall()\n",
    "    cursor.close()\n",
    "    connection.close()\n",
    "except pymysql.Error as e:\n",
    "    print(e)"
   ]
  },
  {
   "cell_type": "markdown",
   "metadata": {},
   "source": [
    "## For $k_{cat}$"
   ]
  },
  {
   "cell_type": "code",
   "execution_count": 16,
   "metadata": {},
   "outputs": [
    {
     "name": "stderr",
     "output_type": "stream",
     "text": [
      "100%|██████████| 7832/7832 [20:08<00:00,  6.48it/s]  \n"
     ]
    }
   ],
   "source": [
    "# this may take a couple of minutes(about 19 mins on Intel i5-13400, wsl2: ubuntu20.04)\n",
    "from utils import parse_kcat, extract_just_ec_number\n",
    "from tqdm import tqdm\n",
    "import json\n",
    "i = 1\n",
    "data_kcat = []\n",
    "for r in tqdm(brenda.reactions):\n",
    "    for substrate in parse_kcat(r).keys():\n",
    "        ec_number = extract_just_ec_number(r.ec_number)\n",
    "        for record in parse_kcat(r)[substrate]:\n",
    "            k_cat = record.get('value')\n",
    "            species = json.dumps(record.get('species'))\n",
    "            meta = record.get('meta')\n",
    "            refs = json.dumps(record.get('refs'))\n",
    "            item = {\n",
    "                'id': str(i),\n",
    "                'ec_number': ec_number,\n",
    "                'k_cat':k_cat,\n",
    "                'species':species,\n",
    "                'meta': meta,\n",
    "                'refs':refs\n",
    "            }\n",
    "            for key in item.keys():\n",
    "                if not item[key]:\n",
    "                    item[key] = None\n",
    "            if item['ec_number']:\n",
    "                data_kcat.append(item)\n",
    "                i += 1"
   ]
  },
  {
   "cell_type": "code",
   "execution_count": 21,
   "metadata": {},
   "outputs": [
    {
     "name": "stderr",
     "output_type": "stream",
     "text": [
      "  0%|          | 0/76811 [00:00<?, ?it/s]"
     ]
    },
    {
     "name": "stderr",
     "output_type": "stream",
     "text": [
      "100%|██████████| 76811/76811 [00:28<00:00, 2730.03it/s]"
     ]
    },
    {
     "name": "stdout",
     "output_type": "stream",
     "text": [
      "(1146, \"Table 'KCat.km' doesn't exist\")\n"
     ]
    },
    {
     "name": "stderr",
     "output_type": "stream",
     "text": [
      "\n"
     ]
    }
   ],
   "source": [
    "# with mysql running\n",
    "import pymysql\n",
    "from tqdm import tqdm\n",
    "db_config = {\n",
    "    'host': 'localhost',\n",
    "    'user': 'root',\n",
    "    'password': '123456',\n",
    "    'charset':'utf8mb4'\n",
    "}\n",
    "try:\n",
    "    connection = pymysql.connect(**db_config)\n",
    "    cursor = connection.cursor()\n",
    "except pymysql.Error as e:\n",
    "    print(\"Database connection error:\", e)\n",
    "try:\n",
    "    cursor.execute(f\"CREATE DATABASE IF NOT EXISTS KCat\")\n",
    "    cursor.execute(f\"USE KCat\")\n",
    "    cursor.execute(\"\"\"\n",
    "            CREATE TABLE IF NOT EXISTS kcat (\n",
    "                id INT PRIMARY KEY,\n",
    "                ec_number VARCHAR(20), \n",
    "                k_cat FLOAT,\n",
    "                species JSON,\n",
    "                meta TEXT,\n",
    "                refs JSON,\n",
    "                substrate TEXT\n",
    "            ) CHARACTER SET utf8mb4;\"\"\")\n",
    "    for item in tqdm(data_kcat):\n",
    "        try:\n",
    "            insert_query = f\"INSERT INTO kcat ({', '.join(item.keys())}) VALUES ({', '.join(['%s'] * len(item))})\"\n",
    "            cursor.execute(insert_query, tuple(item.values()))\n",
    "        except pymysql.Error as e:\n",
    "            print(e)\n",
    "    connection.commit()\n",
    "    query = f\"SELECT * FROM kcat WHERE ec_number = %s\"\n",
    "    cursor.execute(query, ('1.1.1.1'))\n",
    "    rows = cursor.fetchall()\n",
    "    cursor.close()\n",
    "    connection.close()\n",
    "except pymysql.Error as e:\n",
    "    print(e)"
   ]
  },
  {
   "cell_type": "code",
   "execution_count": null,
   "metadata": {},
   "outputs": [],
   "source": [
    "rows"
   ]
  }
 ],
 "metadata": {
  "kernelspec": {
   "display_name": "Python 3",
   "language": "python",
   "name": "python3"
  },
  "language_info": {
   "codemirror_mode": {
    "name": "ipython",
    "version": 3
   },
   "file_extension": ".py",
   "mimetype": "text/x-python",
   "name": "python",
   "nbconvert_exporter": "python",
   "pygments_lexer": "ipython3",
   "version": "3.10.12"
  }
 },
 "nbformat": 4,
 "nbformat_minor": 0
}
