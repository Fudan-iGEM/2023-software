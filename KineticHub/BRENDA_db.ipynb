{
 "cells": [
  {
   "cell_type": "markdown",
   "metadata": {},
   "source": [
    "Due to BRENDA's license, you have to download the database as a text file after accepting usage conditions [here](https://www.brenda-enzymes.org/download.php)."
   ]
  },
  {
   "cell_type": "code",
   "execution_count": 1,
   "metadata": {},
   "outputs": [],
   "source": [
    "from brendapyrser import BRENDA\n",
    "dataFile = 'data/brenda_2023_1.txt'\n",
    "brenda = BRENDA(dataFile)"
   ]
  },
  {
   "cell_type": "code",
   "execution_count": 2,
   "metadata": {},
   "outputs": [],
   "source": [
    "reaction_ec_numbers = []\n",
    "reaction_ec_annotation = []\n",
    "reaction_names = []\n",
    "reaction_systematic_name = []\n",
    "reaction_str = []\n",
    "reaction_species = []\n",
    "reaction_reference = []\n",
    "reaction_type = []\n",
    "reaction_substrates = []\n",
    "reaction_products = []\n",
    "data = []"
   ]
  },
  {
   "cell_type": "code",
   "execution_count": 3,
   "metadata": {},
   "outputs": [],
   "source": [
    "from utils import extract_substrates,extract_products, extract_just_ec_number, extract_ec_annotation\n",
    "import json\n",
    "for r in brenda.reactions:\n",
    "    reaction_ec_numbers.append(extract_just_ec_number(r.ec_number))\n",
    "    reaction_ec_annotation.append(extract_ec_annotation(r.ec_number))\n",
    "    reaction_names.append(r.name)\n",
    "    reaction_systematic_name.append(r.systematic_name)\n",
    "    reaction_str.append(r.reaction_str)\n",
    "    reaction_species.append(r.getSpeciesDict())\n",
    "    reaction_reference.append(r.getReferencesDict())\n",
    "    reaction_type.append(r.reaction_type)\n",
    "    reaction_substrates.append(extract_substrates(r.substratesAndProducts))\n",
    "    reaction_products.append(extract_products(r.substratesAndProducts))\n",
    "    item = {\n",
    "        'ec_number': extract_just_ec_number(r.ec_number),\n",
    "        'ec_annotation': extract_ec_annotation(r.ec_number),\n",
    "        'name': r.name,\n",
    "        'systematic_name': r.systematic_name,\n",
    "        'str': r.reaction_str,\n",
    "        'species': json.dumps(r.getSpeciesDict()),\n",
    "        'reference': json.dumps(r.getReferencesDict()),\n",
    "        'type': r.reaction_type,\n",
    "        'substrates': json.dumps(extract_substrates(r.substratesAndProducts)),\n",
    "        'products': json.dumps(extract_products(r.substratesAndProducts))\n",
    "    }\n",
    "    for key in item.keys():\n",
    "        if not item[key]:\n",
    "            item[key] = None\n",
    "    data.append(item)"
   ]
  },
  {
   "cell_type": "code",
   "execution_count": 6,
   "metadata": {},
   "outputs": [
    {
     "name": "stdout",
     "output_type": "stream",
     "text": [
      "(1048, \"Column 'ec_number' cannot be null\")\n",
      "(1366, \"Incorrect string value: '\\\\xC2\\\\x96)-(1...' for column 'systematic_name' at row 1\")\n",
      "(1366, \"Incorrect string value: '\\\\xC2\\\\x96)-bu...' for column 'systematic_name' at row 1\")\n",
      "(1366, \"Incorrect string value: '\\\\xC2\\\\x96)-de...' for column 'systematic_name' at row 1\")\n",
      "(1366, \"Incorrect string value: '\\\\xC2\\\\x97hemo...' for column 'systematic_name' at row 1\")\n",
      "(1366, \"Incorrect string value: '\\\\xC2\\\\x96)-ve...' for column 'systematic_name' at row 1\")\n",
      "(1366, \"Incorrect string value: '\\\\xC2\\\\x97hemo...' for column 'systematic_name' at row 1\")\n",
      "(1366, \"Incorrect string value: '\\\\xC2\\\\x97hemo...' for column 'systematic_name' at row 1\")\n",
      "(1366, \"Incorrect string value: '\\\\xC2\\\\x97hemo...' for column 'systematic_name' at row 1\")\n",
      "(1366, \"Incorrect string value: '\\\\xC2\\\\x97hemo...' for column 'systematic_name' at row 1\")\n",
      "(1366, \"Incorrect string value: '\\\\xC2\\\\x97hemo...' for column 'systematic_name' at row 1\")\n",
      "(1366, \"Incorrect string value: '\\\\xC2\\\\x97hemo...' for column 'systematic_name' at row 1\")\n",
      "(1366, \"Incorrect string value: '\\\\xC2\\\\x97hemo...' for column 'systematic_name' at row 1\")\n",
      "(1366, \"Incorrect string value: '\\\\xC2\\\\x97hemo...' for column 'systematic_name' at row 1\")\n",
      "(1366, \"Incorrect string value: '\\\\xC2\\\\x96)-ma...' for column 'systematic_name' at row 1\")\n",
      "(1366, \"Incorrect string value: '\\\\xC2\\\\x96)-pl...' for column 'name' at row 1\")\n",
      "(1366, \"Incorrect string value: '\\\\xC2\\\\x96)-se...' for column 'systematic_name' at row 1\")\n",
      "(1366, \"Incorrect string value: '\\\\xC2\\\\x97corr...' for column 'name' at row 1\")\n",
      "(1366, \"Incorrect string value: '\\\\xC2\\\\x97corr...' for column 'name' at row 1\")\n",
      "(1366, \"Incorrect string value: '\\\\xC2\\\\x972-ox...' for column 'name' at row 1\")\n",
      "(1366, \"Incorrect string value: '\\\\xC2\\\\x97reti...' for column 'ec_annotation' at row 1\")\n"
     ]
    }
   ],
   "source": [
    "# with mysql running\n",
    "import pymysql\n",
    "db_config = {\n",
    "    'host': 'localhost',\n",
    "    'user': 'root',\n",
    "    'password': '123456',\n",
    "    'charset':'utf8mb4'\n",
    "}\n",
    "try:\n",
    "    connection = pymysql.connect(**db_config)\n",
    "    cursor = connection.cursor()\n",
    "except pymysql.Error as e:\n",
    "    print(\"Database connection error:\", e)\n",
    "try:\n",
    "    cursor.execute(f\"CREATE DATABASE IF NOT EXISTS Reaction\")\n",
    "    cursor.execute(f\"USE Reaction\")\n",
    "    cursor.execute(\"\"\"\n",
    "            CREATE TABLE IF NOT EXISTS reactions (\n",
    "                ec_number VARCHAR(20) PRIMARY KEY, \n",
    "                ec_annotation TEXT,\n",
    "                name VARCHAR(100),\n",
    "                systematic_name VARCHAR(100),\n",
    "                str TEXT,\n",
    "                species JSON,\n",
    "                reference JSON,\n",
    "                type VARCHAR(100),\n",
    "                substrates JSON,\n",
    "                products JSON\n",
    "            ) CHARACTER SET utf8;\"\"\")\n",
    "    for item in data:\n",
    "        try:\n",
    "            insert_query = f\"INSERT INTO reactions ({', '.join(item.keys())}) VALUES ({', '.join(['%s'] * len(item))})\"\n",
    "            cursor.execute(insert_query, tuple(item.values()))\n",
    "        except pymysql.Error as e:\n",
    "            print(e)\n",
    "            \n",
    "    cursor.close()\n",
    "    connection.close()\n",
    "except pymysql.Error as e:\n",
    "    print(\"数据库连接错误:\", e)"
   ]
  },
  {
   "cell_type": "code",
   "execution_count": null,
   "metadata": {},
   "outputs": [],
   "source": []
  },
  {
   "cell_type": "code",
   "execution_count": null,
   "metadata": {},
   "outputs": [],
   "source": [
    "brenda.reactions[2].substratesAndProducts"
   ]
  },
  {
   "cell_type": "code",
   "execution_count": null,
   "metadata": {},
   "outputs": [],
   "source": [
    "m = 0\n",
    "for i in reaction_type:\n",
    "    try:\n",
    "        m = max(m,len(i))\n",
    "    except Exception as e:\n",
    "        print(e)"
   ]
  },
  {
   "cell_type": "code",
   "execution_count": 4,
   "metadata": {},
   "outputs": [
    {
     "data": {
      "text/plain": [
       "{'ec_number': '1.1.1.108',\n",
       " 'ec_annotation': None,\n",
       " 'name': 'Carnitine 3-dehydrogenase',\n",
       " 'systematic_name': 'carnitine:NAD+ 3-oxidoreductase',\n",
       " 'str': 'carnitine + NAD+ <=> 3-dehydrocarnitine + NADH + H+',\n",
       " 'species': '{\"1\": {\"name\": \"Bacteria\", \"proteinID\": \"\", \"refs\": [\"12\"]}, \"2\": {\"name\": \"Pseudomonas aeruginosa\", \"proteinID\": \"\", \"refs\": [\"4\", \"7\", \"8\", \"9\", \"10\", \"13\"]}, \"3\": {\"name\": \"Pseudomonas putida\", \"proteinID\": \"\", \"refs\": [\"1\", \"5\", \"7\", \"11\"]}, \"4\": {\"name\": \"Alcaligenes sp.\", \"proteinID\": \"\", \"refs\": [\"1\"]}, \"5\": {\"name\": \"Xanthomonas campestris\", \"proteinID\": \"\", \"refs\": [\"14\"]}, \"6\": {\"name\": \"Rhizobium sp.\", \"proteinID\": \"\", \"refs\": [\"16\"]}, \"7\": {\"name\": \"Agrobacterium sp.\", \"proteinID\": \"\", \"refs\": [\"1\", \"2\"]}, \"8\": {\"name\": \"Rhizobium sp. YS-240\", \"proteinID\": \"\", \"refs\": [\"3\"]}, \"9\": {\"name\": \"Xanthomonas translucens\", \"proteinID\": \"\", \"refs\": [\"6\", \"15\", \"16\"]}, \"10\": {\"name\": \"Pseudomonas aeruginosa\", \"proteinID\": \"Q9HTH8 UniProt\", \"refs\": [\"13\"]}, \"11\": {\"name\": \"Rhizobium sp.\", \"proteinID\": \"D7UNT2 UniProt\", \"refs\": [\"14\"]}}',\n",
       " 'reference': '{\"1\": \" Eltayeb, M.M.; Mohamed Ahmed, I.A.; Arima, J.; Mori, N.:Identification of residues essential for the activity and substrateaffinity of L-carnitine dehydrogenase. Mol. Biotechnol. (2013) 55,268-276. {Pubmed:23794271}\", \"2\": \" Hanschmann, H.; Doss, A.; Kleber, H.P.: Occurence of carnitinedehydrogenases with different stereospecificity in agrobacterium sp..FEMS Microbiol. Lett. (1994) 119, 371-376. {Pubmed:}\", \"3\": \" Mori, N.; Mitsuzumi, H.; Kitamoto, Y.: Purification and propertiesof carnitine dehydrogenase from Pseudomonas sp. YS-240. J. Ferment.Bioeng. (1994) 78, 337-340. {Pubmed:}\", \"4\": \" Matsumoto, K.; Yamada, Y.; Takahasi, M.; Todoroki, T.; Mizoguchi,K.; Misaki, H.; Yuki, H.: Fluorometric determination of carnitine inserum with immobilized carnitine dehydrogenase and diaphorase. Clin.Chem. (1990) 36, 2072-2076. {Pubmed:2253348}\", \"5\": \" Goulas, P.: Purification and properties of carnitine dehydrogenasefrom Pseudomonas putida. Biochim. Biophys. Acta (1988) 957, 335-339.{Pubmed:3058208}\", \"6\": \" Mori, N.; Kasugai, T.; Kitamoto, Y.; Ichikawa, Y.: Purification andsome properties of carnitine dehydrogenase from Xanthomonastranslucens. Agric. Biol. Chem. (1988) 52, 249-250. {Pubmed:}\", \"7\": \" Vandecasteele, J-P.: Enzymatic synthesis of L-carnitine byreduction of an achiral precursor: the problem of reduced nicotinamideadenine dinucleotide recycling. Appl. Environ. Microbiol. (1980) 39,327-334. {Pubmed:16345505}\", \"8\": \" Schn\\\\u00f6pp, W.; Sorger, H.; Kleber, H-P.; Aurich, H.: KinetischeUntersuchungen zum Reaktionsmechanismus der Carnitindehydrogenase ausPseudomonas aeruginosa. Eur. J. Biochem. (1969) 10, 56-60.{Pubmed:4310279}\", \"9\": \" Aurich, H.; Kleber, H.P.; Sorger, H.; Tauchert, H.: Reinigung undEigenschaften der Carnitindehydrogenase. Eur. J. Biochem. (1968) 6,196-201. {Pubmed:4302217}\"}',\n",
       " 'type': 'Redox reaction',\n",
       " 'substrates': '[\"carnitine\", \"NAD\", \"-3-hydroxy-4-trimethylaminobutyrate\"]',\n",
       " 'products': '[\"NADH\", \"H\", \"3-dehydrocarnitine\"]'}"
      ]
     },
     "execution_count": 4,
     "metadata": {},
     "output_type": "execute_result"
    }
   ],
   "source": [
    "data[11]"
   ]
  },
  {
   "cell_type": "code",
   "execution_count": null,
   "metadata": {},
   "outputs": [],
   "source": []
  }
 ],
 "metadata": {
  "kernelspec": {
   "display_name": "Python 3",
   "language": "python",
   "name": "python3"
  },
  "language_info": {
   "codemirror_mode": {
    "name": "ipython",
    "version": 3
   },
   "file_extension": ".py",
   "mimetype": "text/x-python",
   "name": "python",
   "nbconvert_exporter": "python",
   "pygments_lexer": "ipython3",
   "version": "3.10.12"
  }
 },
 "nbformat": 4,
 "nbformat_minor": 0
}
