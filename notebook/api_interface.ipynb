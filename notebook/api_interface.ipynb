{
 "cells": [
  {
   "cell_type": "code",
   "execution_count": 10,
   "metadata": {},
   "outputs": [],
   "source": [
    "import requests\n",
    "from urllib.parse import urljoin"
   ]
  },
  {
   "cell_type": "markdown",
   "metadata": {},
   "source": [
    "# example to test connection to the server"
   ]
  },
  {
   "cell_type": "code",
   "execution_count": 19,
   "metadata": {},
   "outputs": [],
   "source": [
    "def test_api_connection(host_url: str) -> None:\n",
    "    try:\n",
    "        api_url = urljoin(host_url, 'api/test/connection')\n",
    "        response = requests.get(api_url)\n",
    "        if response.status_code == 200:\n",
    "            data = response.json()\n",
    "            print(data.get('message'))\n",
    "        else:\n",
    "            print(f\"Failed to fetch data. Status code: {response.status_code}\")\n",
    "    except requests.exceptions.RequestException as e:\n",
    "        print(f\"An error occurred: {e}\")"
   ]
  },
  {
   "cell_type": "code",
   "execution_count": 20,
   "metadata": {},
   "outputs": [
    {
     "name": "stdout",
     "output_type": "stream",
     "text": [
      "🍻 Welcome to RAP!\n",
      " ____      _     ____  \n",
      "|  _ \\    / \\   |  _ \\ \n",
      "| |_) |  / _ \\  | |_) |\n",
      "|  _ <  / ___ \\ |  __/ \n",
      "|_| \\_\\/_/   \\_\\|_|    \n",
      "                       \n",
      "RAP ©2023 Created by mistyfield\n"
     ]
    }
   ],
   "source": [
    "test_api_connection(r'http://127.0.0.1:5000')"
   ]
  }
 ],
 "metadata": {
  "kernelspec": {
   "display_name": "soft",
   "language": "python",
   "name": "python3"
  },
  "language_info": {
   "codemirror_mode": {
    "name": "ipython",
    "version": 3
   },
   "file_extension": ".py",
   "mimetype": "text/x-python",
   "name": "python",
   "nbconvert_exporter": "python",
   "pygments_lexer": "ipython3",
   "version": "3.10.12"
  },
  "orig_nbformat": 4
 },
 "nbformat": 4,
 "nbformat_minor": 2
}
