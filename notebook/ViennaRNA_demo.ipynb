{
 "cells": [
  {
   "cell_type": "code",
   "execution_count": 1,
   "metadata": {},
   "outputs": [],
   "source": [
    "import RNA"
   ]
  },
  {
   "cell_type": "code",
   "execution_count": 2,
   "metadata": {},
   "outputs": [],
   "source": [
    "# setup model\n",
    "md = RNA.md()\n",
    "md.temperature = 37\n",
    "md.dangles = 0"
   ]
  },
  {
   "cell_type": "code",
   "execution_count": 3,
   "metadata": {},
   "outputs": [],
   "source": [
    "# mfe of single strain\n",
    "sequence = 'GCAUCAAGACCAGAUAAACUAAGCGAGCACAAAAGAUGUCAGAACGUUUCCCAAAUGACGUGGAUCCGAU'\n",
    "fc = RNA.fold_compound(sequence, md)\n",
    "ss, mfe = fc.mfe()"
   ]
  },
  {
   "cell_type": "code",
   "execution_count": 4,
   "metadata": {},
   "outputs": [],
   "source": [
    "# mfe of the integration between mRNA and rRNA\n",
    "mRNA = 'CGGCGAGATTATATCCCCGAAGGAGGACATCCAGTATGCAGCACGTGTGCAGCACTACAGCGTGTGACGA'\n",
    "rRNA = \"ACCUCCUUA\"\n",
    "fc = RNA.fold_compound('&'.join([mRNA, rRNA]), md)\n",
    "ss, mfe = fc.mfe()"
   ]
  }
 ],
 "metadata": {
  "kernelspec": {
   "display_name": "rna",
   "language": "python",
   "name": "python3"
  },
  "language_info": {
   "codemirror_mode": {
    "name": "ipython",
    "version": 3
   },
   "file_extension": ".py",
   "mimetype": "text/x-python",
   "name": "python",
   "nbconvert_exporter": "python",
   "pygments_lexer": "ipython3",
   "version": "3.10.11"
  },
  "orig_nbformat": 4
 },
 "nbformat": 4,
 "nbformat_minor": 2
}
