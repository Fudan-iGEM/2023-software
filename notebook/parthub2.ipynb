{
 "cells": [
  {
   "cell_type": "code",
   "execution_count": 1,
   "metadata": {
    "collapsed": true
   },
   "outputs": [],
   "source": [
    "from py2neo import Node, Relationship, Graph, Subgraph\n",
    "import pandas as pd\n",
    "from tqdm import tqdm\n",
    "import re\n",
    "import numpy as np"
   ]
  },
  {
   "cell_type": "markdown",
   "metadata": {},
   "source": [
    "# Connect to neo4j database"
   ]
  },
  {
   "cell_type": "code",
   "execution_count": 2,
   "metadata": {},
   "outputs": [],
   "source": [
    "# with neo4j running\n",
    "graph = Graph(\"bolt://localhost:7687\", auth=(\"neo4j\", \"igem2023\"))\n",
    "graph.delete_all()"
   ]
  },
  {
   "cell_type": "markdown",
   "metadata": {},
   "source": [
    "# Load data"
   ]
  },
  {
   "cell_type": "code",
   "execution_count": 3,
   "metadata": {},
   "outputs": [],
   "source": [
    "def gradient_color_generate(time: str):\n",
    "    from datetime import datetime\n",
    "    import matplotlib as mpl\n",
    "    begin_time = datetime.strptime('2004-1-1', r'%Y-%m-%d')\n",
    "    try:\n",
    "        exact_time = datetime.strptime(time, r'%Y-%m-%d')\n",
    "    except:\n",
    "        exact_time = datetime.strptime('2004-1-1', r'%Y-%m-%d')\n",
    "    now = datetime.now()\n",
    "    max_interavl = now - begin_time\n",
    "    interval = now - exact_time\n",
    "    norm = mpl.colors.Normalize(vmin=0, vmax=max_interavl.days)\n",
    "    cmap = mpl.colormaps.get_cmap('plasma')\n",
    "    hex_rgb = mpl.colors.rgb2hex(cmap(norm(interval.days)))\n",
    "    return hex_rgb"
   ]
  },
  {
   "cell_type": "code",
   "execution_count": 4,
   "metadata": {},
   "outputs": [
    {
     "name": "stderr",
     "output_type": "stream",
     "text": [
      "100%|██████████| 54319/54319 [00:14<00:00, 3685.01it/s]\n",
      "100%|██████████| 54070/54070 [00:01<00:00, 33688.48it/s]\n"
     ]
    }
   ],
   "source": [
    "data = pd.read_csv(r'data/all_collections_filted.csv')\n",
    "part_node_dict = {}\n",
    "part_list = []\n",
    "relationship_list = []\n",
    "for i in tqdm(data.index):\n",
    "    part_num = str(data['part_num'].values[i])\n",
    "    part_name = str(data['part_name'].values[i])\n",
    "    part_url = str(data['part_url'].values[i])\n",
    "    part_desc = str(data['short_desc'].values[i])\n",
    "    part_type = str(data['part_type'].values[i])\n",
    "    part_team = str(data['team'].values[i])\n",
    "    part_sequence = str(data['sequence'].values[i])\n",
    "    part_contents = str(re.sub(' Sequence and Features', '', str(data['contents'].values[i])))\n",
    "    part_released = str(data['released'].values[i])\n",
    "    part_sample = str(data['sample'].values[i])\n",
    "    part_twins = str(data['twins'].values[i])\n",
    "    part_assemble = str(data['assemble_std'].values[i])\n",
    "    part_used = str(data['parts_used'].values[i])\n",
    "    part_using = str(data['using_parts'].values[i])\n",
    "    part_len = str(data['len'].values[i])\n",
    "    part_date = str(data['date'].values[i])\n",
    "    part_isfavorite = str(data['isfavorite'].values[i])\n",
    "    part_year = str(data['year'].values[i])\n",
    "    part_designer = str(data['designer'].values[i])\n",
    "    try:\n",
    "        part_used_list = part_used.split(' ')\n",
    "        part_using_list = part_using.split(' ')\n",
    "        part_twins_list = part_twins.split(' ')\n",
    "        if part_used == 'None' or part_used == '' or part_used == 'N o n e':\n",
    "            part_used_list = []\n",
    "        if part_using == 'self' or part_using == '':\n",
    "            part_using_list = []\n",
    "        if part_twins == 'None' or part_twins == '' or part_twins == 'N o n e':\n",
    "            part_twins_list = []\n",
    "    except:\n",
    "        part_used_list = []\n",
    "        part_using_list = []\n",
    "        part_twins_list = []\n",
    "    part_node = Node('Part', number=str(part_num), name=part_name, url=part_url, description=part_desc, type=part_type,\n",
    "                     team=part_team, sequence=part_sequence, contents=part_contents, released=part_released,\n",
    "                     sample=part_sample, assemble=part_assemble, length=part_len, date=part_date,\n",
    "                     isfavorite=str(part_isfavorite), twins=part_twins_list, twins_num=str(len(part_twins_list)),\n",
    "                     cited_by=part_used_list, year=part_year, cites=str(len(part_used_list)), ref=part_using_list,\n",
    "                     citing=str(len(part_using_list)), designer=part_designer, prweight=max(1,len(part_used_list) * 0.5+len(part_using_list)+0.75 * len(part_twins_list)),\n",
    "                     color=gradient_color_generate(part_date))\n",
    "    part_list.append(part_node)\n",
    "    part_node_dict.update({str(part_num): part_node})\n",
    "for pNode in tqdm(part_node_dict.values()):\n",
    "    if pNode['ref']:\n",
    "        for ref_part in pNode['ref']:\n",
    "            try:\n",
    "                pNode1 = part_node_dict[ref_part]\n",
    "                relationShip = Relationship(pNode, 'refers to', pNode1)\n",
    "                relationShip[\"weight\"] = pNode['prweight']\n",
    "                relationship_list.append(relationShip)\n",
    "            except:\n",
    "                pass\n",
    "    if pNode['twins']:\n",
    "        for twin_part in pNode['twins']:\n",
    "            try:\n",
    "                pNode2 = part_node_dict[twin_part]\n",
    "                if pNode2['number'] != pNode['number']:\n",
    "                    relationShip = Relationship(pNode, 'twins', pNode2)\n",
    "                    relationship_list.append(relationShip)\n",
    "            except:\n",
    "                pass\n",
    "    if pNode['cited_by']:\n",
    "        for cite_part in pNode['cited_by']:\n",
    "            try:\n",
    "                pNode3 = part_node_dict[cite_part]\n",
    "                pNode3 = part_node_dict[cite_part]\n",
    "                relationShip = Relationship(pNode3, 'refers to', pNode)\n",
    "                relationShip[\"weight\"] = pNode3['prweight']\n",
    "                relationship_list.append(relationShip)\n",
    "            except:\n",
    "                pass\n",
    "relationship_list = list(set(relationship_list))"
   ]
  },
  {
   "cell_type": "markdown",
   "metadata": {},
   "source": [
    "# Upload to neo4j"
   ]
  },
  {
   "cell_type": "code",
   "execution_count": 5,
   "metadata": {},
   "outputs": [],
   "source": [
    "subgraph = Subgraph(part_list, relationship_list)\n",
    "tx = graph.begin()\n",
    "tx.create(subgraph)\n",
    "graph.commit(tx)"
   ]
  },
  {
   "cell_type": "markdown",
   "metadata": {},
   "source": [
    "# calculate PageRank"
   ]
  },
  {
   "cell_type": "code",
   "execution_count": 6,
   "metadata": {},
   "outputs": [
    {
     "data": {
      "text/html": [
       "<table><tr><th>nodeProjection</th><th>relationshipProjection</th><th>graphName</th><th>nodeCount</th><th>relationshipCount</th><th>projectMillis</th></tr><tr><td style=\"text-align:left\">{Part: {label: &#039;Part&#039;, properties: {}}}</td><td style=\"text-align:left\">{`refers to`: {orientation: &#039;NATURAL&#039;, indexInverse: false, aggregation: &#039;DEFAULT&#039;, type: &#039;refers to&#039;, properties: {weight: {defaultValue: null, property: &#039;weight&#039;, aggregation: &#039;DEFAULT&#039;}}}}</td><td style=\"text-align:left\">parthub</td><td style=\"text-align:right\">54319</td><td style=\"text-align:right\">51463</td><td style=\"text-align:right\">1007</td></tr></table>"
      ],
      "text/plain": [
       " nodeProjection                          | relationshipProjection                                                                                                                                                                          | graphName | nodeCount | relationshipCount | projectMillis \n",
       "-----------------------------------------|-------------------------------------------------------------------------------------------------------------------------------------------------------------------------------------------------|-----------|-----------|-------------------|---------------\n",
       " {Part: {label: 'Part', properties: {}}} | {`refers to`: {orientation: 'NATURAL', indexInverse: false, aggregation: 'DEFAULT', type: 'refers to', properties: {weight: {defaultValue: null, property: 'weight', aggregation: 'DEFAULT'}}}} | parthub   |     54319 |             51463 |          1007 "
      ]
     },
     "execution_count": 6,
     "metadata": {},
     "output_type": "execute_result"
    }
   ],
   "source": [
    "# create graph\n",
    "query = \"\"\"\n",
    "CALL gds.graph.project(\n",
    "  'parthub',\n",
    "  'Part',\n",
    "  'refers to',\n",
    "  {\n",
    "    relationshipProperties: 'weight'\n",
    "  }\n",
    ")\n",
    "\"\"\"\n",
    "graph.run(query)"
   ]
  },
  {
   "cell_type": "code",
   "execution_count": 7,
   "metadata": {},
   "outputs": [
    {
     "data": {
      "text/html": [
       "<table><tr><th>nodePropertiesWritten</th><th>ranIterations</th></tr><tr><td style=\"text-align:right\">54319</td><td style=\"text-align:right\">13</td></tr></table>"
      ],
      "text/plain": [
       " nodePropertiesWritten | ranIterations \n",
       "-----------------------|---------------\n",
       "                 54319 |            13 "
      ]
     },
     "execution_count": 7,
     "metadata": {},
     "output_type": "execute_result"
    }
   ],
   "source": [
    "# calculate PageRanks\n",
    "query = '''\n",
    "CALL gds.pageRank.write('parthub', {\n",
    "  maxIterations: 20,\n",
    "  dampingFactor: 0.85,\n",
    "  writeProperty: 'pagerank',\n",
    "  relationshipWeightProperty: 'weight'\n",
    "})\n",
    "YIELD nodePropertiesWritten, ranIterations\n",
    "'''\n",
    "graph.run(query)"
   ]
  },
  {
   "cell_type": "code",
   "execution_count": 15,
   "metadata": {},
   "outputs": [
    {
     "data": {
      "text/html": [
       "(No data)"
      ],
      "text/plain": [
       "(No data)"
      ]
     },
     "execution_count": 15,
     "metadata": {},
     "output_type": "execute_result"
    }
   ],
   "source": [
    "# generate nodesize\n",
    "query = '''\n",
    "MATCH (n:Part)\n",
    "SET n.nodesize = n.pagerank + 30\n",
    "'''\n",
    "graph.run(query)"
   ]
  },
  {
   "cell_type": "markdown",
   "metadata": {},
   "source": [
    "# Louvain method"
   ]
  },
  {
   "cell_type": "code",
   "execution_count": 9,
   "metadata": {},
   "outputs": [
    {
     "data": {
      "text/html": [
       "<table><tr><th>writeMillis</th><th>nodePropertiesWritten</th><th>modularity</th><th>modularities</th><th>ranLevels</th><th>communityCount</th><th>communityDistribution</th><th>postProcessingMillis</th><th>preProcessingMillis</th><th>computeMillis</th><th>configuration</th></tr><tr><td style=\"text-align:right\">236</td><td style=\"text-align:right\">54319</td><td style=\"text-align:right\">0.8323569046915124</td><td style=\"text-align:left\">[0.2923062320528579, 0.5687284489466253, 0.6854854537082082, 0.7461020989273823, 0.7748351205668559, 0.7941167269298596, 0.8085938224335041, 0.8178678146488365, 0.82584556247684, 0.8323569046915124]</td><td style=\"text-align:right\">10</td><td style=\"text-align:right\">23822</td><td style=\"text-align:left\">{p99: 11, min: 1, max: 5198, mean: 2.2802031735370667, p90: 1, p50: 1, p999: 130, p95: 2, p75: 1}</td><td style=\"text-align:right\">33</td><td style=\"text-align:right\">0</td><td style=\"text-align:right\">3535</td><td style=\"text-align:left\">{maxIterations: 10, writeConcurrency: 4, seedProperty: null, consecutiveIds: false, maxLevels: 10, relationshipWeightProperty: &#039;weight&#039;, concurrency: 4, jobId: &#039;a6448ab8-67a0-4856-89d4-8bf05398eef8&#039;, writeProperty: &#039;community&#039;, logProgress: true, includeIntermediateCommunities: false, nodeLabels: [&#039;*&#039;], sudo: false, relationshipTypes: [&#039;*&#039;], tolerance: 0.0001}</td></tr></table>"
      ],
      "text/plain": [
       " writeMillis | nodePropertiesWritten |         modularity | modularities                                                                                                                                                                                           | ranLevels | communityCount | communityDistribution                                                                             | postProcessingMillis | preProcessingMillis | computeMillis | configuration                                                                                                                                                                                                                                                                                                                                                              \n",
       "-------------|-----------------------|--------------------|--------------------------------------------------------------------------------------------------------------------------------------------------------------------------------------------------------|-----------|----------------|---------------------------------------------------------------------------------------------------|----------------------|---------------------|---------------|----------------------------------------------------------------------------------------------------------------------------------------------------------------------------------------------------------------------------------------------------------------------------------------------------------------------------------------------------------------------------\n",
       "         236 |                 54319 | 0.8323569046915124 | [0.2923062320528579, 0.5687284489466253, 0.6854854537082082, 0.7461020989273823, 0.7748351205668559, 0.7941167269298596, 0.8085938224335041, 0.8178678146488365, 0.82584556247684, 0.8323569046915124] |        10 |          23822 | {p99: 11, min: 1, max: 5198, mean: 2.2802031735370667, p90: 1, p50: 1, p999: 130, p95: 2, p75: 1} |                   33 |                   0 |          3535 | {maxIterations: 10, writeConcurrency: 4, seedProperty: null, consecutiveIds: false, maxLevels: 10, relationshipWeightProperty: 'weight', concurrency: 4, jobId: 'a6448ab8-67a0-4856-89d4-8bf05398eef8', writeProperty: 'community', logProgress: true, includeIntermediateCommunities: false, nodeLabels: ['*'], sudo: false, relationshipTypes: ['*'], tolerance: 0.0001} "
      ]
     },
     "execution_count": 9,
     "metadata": {},
     "output_type": "execute_result"
    }
   ],
   "source": [
    "# run Louvain method\n",
    "query = '''\n",
    "CALL gds.louvain.write('parthub', {\n",
    "  writeProperty: 'community',\n",
    "  relationshipWeightProperty: 'weight'\n",
    "})\n",
    "'''\n",
    "graph.run(query)"
   ]
  }
 ],
 "metadata": {
  "kernelspec": {
   "display_name": "Python 3",
   "language": "python",
   "name": "python3"
  },
  "language_info": {
   "codemirror_mode": {
    "name": "ipython",
    "version": 3
   },
   "file_extension": ".py",
   "mimetype": "text/x-python",
   "name": "python",
   "nbconvert_exporter": "python",
   "pygments_lexer": "ipython3",
   "version": "3.10.12"
  }
 },
 "nbformat": 4,
 "nbformat_minor": 0
}
