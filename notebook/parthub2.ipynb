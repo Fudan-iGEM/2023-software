{
 "cells": [
  {
   "cell_type": "code",
   "execution_count": 53,
   "metadata": {
    "collapsed": true
   },
   "outputs": [],
   "source": [
    "from py2neo import Node, Relationship, Graph, Subgraph\n",
    "import pandas as pd\n",
    "from tqdm import tqdm\n",
    "import re\n",
    "import numpy as np"
   ]
  },
  {
   "cell_type": "markdown",
   "metadata": {},
   "source": [
    "# Connect to neo4j database"
   ]
  },
  {
   "cell_type": "code",
   "execution_count": 54,
   "metadata": {},
   "outputs": [],
   "source": [
    "# with neo4j running\n",
    "graph = Graph(\"bolt://localhost:7687\", auth=(\"neo4j\", \"igem2023\"))\n",
    "graph.delete_all()"
   ]
  },
  {
   "cell_type": "markdown",
   "metadata": {},
   "source": [
    "# Load data"
   ]
  },
  {
   "cell_type": "code",
   "execution_count": 55,
   "metadata": {},
   "outputs": [],
   "source": [
    "def gradient_color_generate(time: str):\n",
    "    from datetime import datetime\n",
    "    import matplotlib as mpl\n",
    "    begin_time = datetime.strptime('2004-1-1', r'%Y-%m-%d')\n",
    "    try:\n",
    "        exact_time = datetime.strptime(time, r'%Y-%m-%d')\n",
    "    except:\n",
    "        exact_time = datetime.strptime('2004-1-1', r'%Y-%m-%d')\n",
    "    now = datetime.now()\n",
    "    max_interavl = now - begin_time\n",
    "    interval = now - exact_time\n",
    "    norm = mpl.colors.Normalize(vmin=0, vmax=max_interavl.days)\n",
    "    cmap = mpl.colormaps.get_cmap('plasma')\n",
    "    hex_rgb = mpl.colors.rgb2hex(cmap(norm(interval.days)))\n",
    "    return hex_rgb"
   ]
  },
  {
   "cell_type": "code",
   "execution_count": 56,
   "metadata": {},
   "outputs": [
    {
     "name": "stderr",
     "output_type": "stream",
     "text": [
      "100%|██████████| 54319/54319 [00:18<00:00, 3015.63it/s]\n",
      "100%|██████████| 54070/54070 [00:04<00:00, 12385.37it/s]\n"
     ]
    }
   ],
   "source": [
    "data = pd.read_csv(r'data/all_collections_filted.csv')\n",
    "part_node_dict = {}\n",
    "part_list = []\n",
    "relationship_list = []\n",
    "for i in tqdm(data.index):\n",
    "    part_num = str(data['part_num'].values[i])\n",
    "    part_name = str(data['part_name'].values[i])\n",
    "    part_url = str(data['part_url'].values[i])\n",
    "    part_desc = str(data['short_desc'].values[i])\n",
    "    part_type = str(data['part_type'].values[i])\n",
    "    part_team = str(data['team'].values[i])\n",
    "    part_sequence = str(data['sequence'].values[i])\n",
    "    part_contents = str(re.sub(' Sequence and Features', '', str(data['contents'].values[i])))\n",
    "    part_released = str(data['released'].values[i])\n",
    "    part_sample = str(data['sample'].values[i])\n",
    "    part_twins = str(data['twins'].values[i])\n",
    "    part_assemble = str(data['assemble_std'].values[i])\n",
    "    part_used = str(data['parts_used'].values[i])\n",
    "    part_using = str(data['using_parts'].values[i])\n",
    "    part_len = str(data['len'].values[i])\n",
    "    part_date = str(data['date'].values[i])\n",
    "    part_isfavorite = str(data['isfavorite'].values[i])\n",
    "    part_year = str(data['year'].values[i])\n",
    "    part_designer = str(data['designer'].values[i])\n",
    "    try:\n",
    "        part_used_list = part_used.split(' ')\n",
    "        part_using_list = part_using.split(' ')\n",
    "        part_twins_list = part_twins.split(' ')\n",
    "        if part_used == 'None' or part_used == '' or part_used == 'N o n e':\n",
    "            part_used_list = []\n",
    "        if part_using == 'self' or part_using == '':\n",
    "            part_using_list = []\n",
    "        if part_twins == 'None' or part_twins == '' or part_twins == 'N o n e':\n",
    "            part_twins_list = []\n",
    "    except:\n",
    "        part_used_list = []\n",
    "        part_using_list = []\n",
    "        part_twins_list = []\n",
    "    part_node = Node('Part', number=str(part_num), name=part_name, url=part_url, description=part_desc, type=part_type,\n",
    "                     team=part_team, sequence=part_sequence, contents=part_contents, released=part_released,\n",
    "                     sample=part_sample, assemble=part_assemble, length=part_len, date=part_date,\n",
    "                     isfavorite=str(part_isfavorite), twins=part_twins_list, twins_num=str(len(part_twins_list)),\n",
    "                     cited_by=part_used_list, year=part_year, cites=str(len(part_used_list)), ref=part_using_list,\n",
    "                     citing=str(len(part_using_list)), designer=part_designer, prweight=max(1,len(part_used_list) * 0.5+len(part_using_list)+0.75 * len(part_twins_list)),\n",
    "                     color=gradient_color_generate(part_date))\n",
    "    part_list.append(part_node)\n",
    "    part_node_dict.update({str(part_num): part_node})\n",
    "twins_set_list = []\n",
    "twins_node_list = []\n",
    "for pNode in tqdm(part_node_dict.values()):\n",
    "    if pNode['ref']:\n",
    "        for ref_part in pNode['ref']:\n",
    "            try:\n",
    "                pNode1 = part_node_dict[ref_part]\n",
    "                relationShip = Relationship(pNode, 'refers to', pNode1)\n",
    "                relationShip[\"weight\"] = pNode['prweight']\n",
    "                relationship_list.append(relationShip)\n",
    "            except:\n",
    "                pass\n",
    "    if pNode['twins']:\n",
    "        for twin_part in pNode['twins']:\n",
    "            try:\n",
    "                pNode2 = part_node_dict[twin_part]\n",
    "                if pNode2['number'] != pNode['number']:\n",
    "                    if set([pNode2['number'],pNode['number']]) not in twins_set_list:\n",
    "                        relationShip = Relationship(pNode, 'twins', pNode2)\n",
    "                        relationship_list.append(relationShip)\n",
    "                        twins_set_list.append(set([pNode2['number'],pNode['number']]))\n",
    "            except:\n",
    "                pass\n",
    "    if pNode['cited_by']:\n",
    "        for cite_part in pNode['cited_by']:\n",
    "            try:\n",
    "                pNode3 = part_node_dict[cite_part]\n",
    "                pNode3 = part_node_dict[cite_part]\n",
    "                relationShip = Relationship(pNode3, 'refers to', pNode)\n",
    "                relationShip[\"weight\"] = pNode3['prweight']\n",
    "                relationship_list.append(relationShip)\n",
    "            except:\n",
    "                pass\n",
    "relationship_list = list(set(relationship_list))"
   ]
  },
  {
   "cell_type": "markdown",
   "metadata": {},
   "source": [
    "# Upload to neo4j"
   ]
  },
  {
   "cell_type": "code",
   "execution_count": 57,
   "metadata": {},
   "outputs": [],
   "source": [
    "subgraph = Subgraph(part_list, relationship_list)\n",
    "tx = graph.begin()\n",
    "tx.create(subgraph)\n",
    "graph.commit(tx)"
   ]
  },
  {
   "cell_type": "markdown",
   "metadata": {},
   "source": [
    "# calculate PageRank"
   ]
  },
  {
   "cell_type": "code",
   "execution_count": 59,
   "metadata": {},
   "outputs": [
    {
     "data": {
      "text/html": [
       "<table><tr><th>nodeProjection</th><th>relationshipProjection</th><th>graphName</th><th>nodeCount</th><th>relationshipCount</th><th>projectMillis</th></tr><tr><td style=\"text-align:left\">{Part: {label: &#039;Part&#039;, properties: {}}}</td><td style=\"text-align:left\">{`refers to`: {orientation: &#039;NATURAL&#039;, indexInverse: false, aggregation: &#039;DEFAULT&#039;, type: &#039;refers to&#039;, properties: {weight: {defaultValue: null, property: &#039;weight&#039;, aggregation: &#039;DEFAULT&#039;}}}}</td><td style=\"text-align:left\">parthub</td><td style=\"text-align:right\">54319</td><td style=\"text-align:right\">51463</td><td style=\"text-align:right\">294</td></tr></table>"
      ],
      "text/plain": [
       " nodeProjection                          | relationshipProjection                                                                                                                                                                          | graphName | nodeCount | relationshipCount | projectMillis \n",
       "-----------------------------------------|-------------------------------------------------------------------------------------------------------------------------------------------------------------------------------------------------|-----------|-----------|-------------------|---------------\n",
       " {Part: {label: 'Part', properties: {}}} | {`refers to`: {orientation: 'NATURAL', indexInverse: false, aggregation: 'DEFAULT', type: 'refers to', properties: {weight: {defaultValue: null, property: 'weight', aggregation: 'DEFAULT'}}}} | parthub   |     54319 |             51463 |           294 "
      ]
     },
     "execution_count": 59,
     "metadata": {},
     "output_type": "execute_result"
    }
   ],
   "source": [
    "# create graph\n",
    "query = \"\"\"\n",
    "CALL gds.graph.project(\n",
    "  'parthub',\n",
    "  'Part',\n",
    "  'refers to',\n",
    "  {\n",
    "    relationshipProperties: 'weight'\n",
    "  }\n",
    ")\n",
    "\"\"\"\n",
    "graph.run(query)"
   ]
  },
  {
   "cell_type": "code",
   "execution_count": 60,
   "metadata": {},
   "outputs": [
    {
     "data": {
      "text/html": [
       "<table><tr><th>nodePropertiesWritten</th><th>ranIterations</th></tr><tr><td style=\"text-align:right\">54319</td><td style=\"text-align:right\">13</td></tr></table>"
      ],
      "text/plain": [
       " nodePropertiesWritten | ranIterations \n",
       "-----------------------|---------------\n",
       "                 54319 |            13 "
      ]
     },
     "execution_count": 60,
     "metadata": {},
     "output_type": "execute_result"
    }
   ],
   "source": [
    "# calculate PageRanks\n",
    "query = '''\n",
    "CALL gds.pageRank.write('parthub', {\n",
    "  maxIterations: 20,\n",
    "  dampingFactor: 0.85,\n",
    "  writeProperty: 'pagerank',\n",
    "  relationshipWeightProperty: 'weight'\n",
    "})\n",
    "YIELD nodePropertiesWritten, ranIterations\n",
    "'''\n",
    "graph.run(query)"
   ]
  },
  {
   "cell_type": "code",
   "execution_count": 61,
   "metadata": {},
   "outputs": [
    {
     "data": {
      "text/html": [
       "<table><tr><th>max_val</th><th>min_val</th></tr><tr><td style=\"text-align:right\">46.2585416018457</td><td style=\"text-align:right\">0.15000000000000002</td></tr></table>"
      ],
      "text/plain": [
       "          max_val |             min_val \n",
       "------------------|---------------------\n",
       " 46.2585416018457 | 0.15000000000000002 "
      ]
     },
     "execution_count": 61,
     "metadata": {},
     "output_type": "execute_result"
    }
   ],
   "source": [
    "# get max pagerank and min pagerank\n",
    "query = '''\n",
    "MATCH (n:Part)\n",
    "RETURN max(n.pagerank) AS max_val, min(n.pagerank) AS min_val\n",
    "'''\n",
    "graph.run(query)"
   ]
  },
  {
   "cell_type": "code",
   "execution_count": 62,
   "metadata": {},
   "outputs": [
    {
     "data": {
      "text/html": [
       "(No data)"
      ],
      "text/plain": [
       "(No data)"
      ]
     },
     "execution_count": 62,
     "metadata": {},
     "output_type": "execute_result"
    }
   ],
   "source": [
    "# generate nodesize\n",
    "query = '''\n",
    "MATCH (n:Part)\n",
    "SET n.nodesize = (n.pagerank - 0.15000000000000002) / (46.258541601845714 - 0.15000000000000002) * 90 + 30\n",
    "'''\n",
    "graph.run(query)"
   ]
  },
  {
   "cell_type": "markdown",
   "metadata": {},
   "source": [
    "# Louvain method"
   ]
  },
  {
   "cell_type": "code",
   "execution_count": 63,
   "metadata": {},
   "outputs": [
    {
     "data": {
      "text/html": [
       "<table><tr><th>writeMillis</th><th>nodePropertiesWritten</th><th>modularity</th><th>modularities</th><th>ranLevels</th><th>communityCount</th><th>communityDistribution</th><th>postProcessingMillis</th><th>preProcessingMillis</th><th>computeMillis</th><th>configuration</th></tr><tr><td style=\"text-align:right\">122</td><td style=\"text-align:right\">54319</td><td style=\"text-align:right\">0.8159140486219864</td><td style=\"text-align:left\">[0.2929013510321137, 0.5554356463201578, 0.6585916830357512, 0.7179196711533793, 0.7513866300153957, 0.7744117586877015, 0.7898677387447763, 0.801128122197099, 0.8093501507185161, 0.8159140486219864]</td><td style=\"text-align:right\">10</td><td style=\"text-align:right\">23825</td><td style=\"text-align:left\">{p99: 11, min: 1, max: 5666, mean: 2.279916054564533, p90: 1, p50: 1, p999: 179, p95: 2, p75: 1}</td><td style=\"text-align:right\">18</td><td style=\"text-align:right\">0</td><td style=\"text-align:right\">4734</td><td style=\"text-align:left\">{maxIterations: 10, writeConcurrency: 4, seedProperty: null, consecutiveIds: false, maxLevels: 10, relationshipWeightProperty: &#039;weight&#039;, concurrency: 4, jobId: &#039;697ff15c-a2e7-41bc-81a0-e277f20c5205&#039;, writeProperty: &#039;community&#039;, logProgress: true, includeIntermediateCommunities: false, nodeLabels: [&#039;*&#039;], sudo: false, relationshipTypes: [&#039;*&#039;], tolerance: 0.0001}</td></tr></table>"
      ],
      "text/plain": [
       " writeMillis | nodePropertiesWritten |         modularity | modularities                                                                                                                                                                                            | ranLevels | communityCount | communityDistribution                                                                            | postProcessingMillis | preProcessingMillis | computeMillis | configuration                                                                                                                                                                                                                                                                                                                                                              \n",
       "-------------|-----------------------|--------------------|---------------------------------------------------------------------------------------------------------------------------------------------------------------------------------------------------------|-----------|----------------|--------------------------------------------------------------------------------------------------|----------------------|---------------------|---------------|----------------------------------------------------------------------------------------------------------------------------------------------------------------------------------------------------------------------------------------------------------------------------------------------------------------------------------------------------------------------------\n",
       "         122 |                 54319 | 0.8159140486219864 | [0.2929013510321137, 0.5554356463201578, 0.6585916830357512, 0.7179196711533793, 0.7513866300153957, 0.7744117586877015, 0.7898677387447763, 0.801128122197099, 0.8093501507185161, 0.8159140486219864] |        10 |          23825 | {p99: 11, min: 1, max: 5666, mean: 2.279916054564533, p90: 1, p50: 1, p999: 179, p95: 2, p75: 1} |                   18 |                   0 |          4734 | {maxIterations: 10, writeConcurrency: 4, seedProperty: null, consecutiveIds: false, maxLevels: 10, relationshipWeightProperty: 'weight', concurrency: 4, jobId: '697ff15c-a2e7-41bc-81a0-e277f20c5205', writeProperty: 'community', logProgress: true, includeIntermediateCommunities: false, nodeLabels: ['*'], sudo: false, relationshipTypes: ['*'], tolerance: 0.0001} "
      ]
     },
     "execution_count": 63,
     "metadata": {},
     "output_type": "execute_result"
    }
   ],
   "source": [
    "# run Louvain method\n",
    "query = '''\n",
    "CALL gds.louvain.write('parthub', {\n",
    "  writeProperty: 'community',\n",
    "  relationshipWeightProperty: 'weight'\n",
    "})\n",
    "'''\n",
    "graph.run(query)"
   ]
  },
  {
   "cell_type": "markdown",
   "metadata": {},
   "source": [
    "# delete temp graph"
   ]
  },
  {
   "cell_type": "code",
   "execution_count": 64,
   "metadata": {},
   "outputs": [
    {
     "data": {
      "text/html": [
       "<table><tr><th>graphName</th><th>database</th><th>memoryUsage</th><th>sizeInBytes</th><th>nodeCount</th><th>relationshipCount</th><th>configuration</th><th>density</th><th>creationTime</th><th>modificationTime</th><th>schema</th><th>schemaWithOrientation</th></tr><tr><td style=\"text-align:left\">parthub</td><td style=\"text-align:left\">neo4j</td><td style=\"text-align:left\"></td><td style=\"text-align:right\">-1</td><td style=\"text-align:right\">54319</td><td style=\"text-align:right\">51463</td><td style=\"text-align:left\">{}</td><td style=\"text-align:right\">1.744213175146908e-05</td><td style=\"text-align:left\">datetime(&#039;2023-09-05T14:02:08.109839010+00:00&#039;)</td><td style=\"text-align:left\">datetime(&#039;2023-09-05T14:02:08.430935081+00:00&#039;)</td><td style=\"text-align:left\">{graphProperties: {}, relationships: {`refers to`: {weight: &#039;Float (DefaultValue(NaN), PERSISTENT, Aggregation.NONE)&#039;}}, nodes: {Part: {}}}</td><td style=\"text-align:left\">{graphProperties: {}, relationships: {`refers to`: {properties: {weight: &#039;Float (DefaultValue(NaN), PERSISTENT, Aggregation.NONE)&#039;}, direction: &#039;DIRECTED&#039;}}, nodes: {Part: {}}}</td></tr></table>"
      ],
      "text/plain": [
       " graphName | database | memoryUsage | sizeInBytes | nodeCount | relationshipCount | configuration |               density | creationTime                                    | modificationTime                                | schema                                                                                                                                      | schemaWithOrientation                                                                                                                                                            \n",
       "-----------|----------|-------------|-------------|-----------|-------------------|---------------|-----------------------|-------------------------------------------------|-------------------------------------------------|---------------------------------------------------------------------------------------------------------------------------------------------|----------------------------------------------------------------------------------------------------------------------------------------------------------------------------------\n",
       " parthub   | neo4j    |             |          -1 |     54319 |             51463 | {}            | 1.744213175146908e-05 | datetime('2023-09-05T14:02:08.109839010+00:00') | datetime('2023-09-05T14:02:08.430935081+00:00') | {graphProperties: {}, relationships: {`refers to`: {weight: 'Float (DefaultValue(NaN), PERSISTENT, Aggregation.NONE)'}}, nodes: {Part: {}}} | {graphProperties: {}, relationships: {`refers to`: {properties: {weight: 'Float (DefaultValue(NaN), PERSISTENT, Aggregation.NONE)'}, direction: 'DIRECTED'}}, nodes: {Part: {}}} "
      ]
     },
     "execution_count": 64,
     "metadata": {},
     "output_type": "execute_result"
    }
   ],
   "source": [
    "query = '''\n",
    "CALL gds.graph.drop('parthub')\n",
    "'''\n",
    "graph.run(query)"
   ]
  }
 ],
 "metadata": {
  "kernelspec": {
   "display_name": "Python 3",
   "language": "python",
   "name": "python3"
  },
  "language_info": {
   "codemirror_mode": {
    "name": "ipython",
    "version": 3
   },
   "file_extension": ".py",
   "mimetype": "text/x-python",
   "name": "python",
   "nbconvert_exporter": "python",
   "pygments_lexer": "ipython3",
   "version": "3.10.12"
  }
 },
 "nbformat": 4,
 "nbformat_minor": 0
}
