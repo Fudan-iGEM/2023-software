{
 "cells": [
  {
   "cell_type": "code",
   "execution_count": 20,
   "metadata": {},
   "outputs": [
    {
     "name": "stdout",
     "output_type": "stream",
     "text": [
      "Looking in indexes: https://pypi.tuna.tsinghua.edu.cn/simple\n",
      "Collecting rapBuilder\n",
      "  Downloading https://pypi.tuna.tsinghua.edu.cn/packages/85/38/e29a323078a7e8a255cb4d79dfd7d7fc09aa69c42b2ffce5e7e5f8201bbe/rapBuilder-0.1.4-py3-none-any.whl (19 kB)\n",
      "Requirement already satisfied: ViennaRNA==2.6.3 in /home/czy/anaconda3/envs/soft/lib/python3.10/site-packages (from rapBuilder) (2.6.3)\n",
      "Requirement already satisfied: tqdm in /home/czy/anaconda3/envs/soft/lib/python3.10/site-packages (from rapBuilder) (4.65.0)\n",
      "Installing collected packages: rapBuilder\n",
      "Successfully installed rapBuilder-0.1.4\n"
     ]
    }
   ],
   "source": [
    "!pip install rapBuilder"
   ]
  },
  {
   "cell_type": "code",
   "execution_count": 2,
   "metadata": {},
   "outputs": [],
   "source": [
    "import rapbuilder as rb"
   ]
  },
  {
   "cell_type": "code",
   "execution_count": 6,
   "metadata": {},
   "outputs": [
    {
     "name": "stderr",
     "output_type": "stream",
     "text": [
      "  4%|▍         | 446/10000 [00:01<00:31, 301.84it/s]\n",
      "  1%|          | 102/10000 [00:00<00:32, 307.18it/s]\n",
      "  4%|▎         | 359/10000 [00:01<00:38, 252.60it/s]\n",
      "  2%|▏         | 157/10000 [00:00<00:39, 247.80it/s]\n",
      "  1%|          | 87/10000 [00:00<00:42, 235.21it/s]\n",
      "  1%|          | 76/10000 [00:00<00:34, 285.59it/s]\n",
      "  0%|          | 8/10000 [00:00<00:40, 244.51it/s]\n",
      "  1%|          | 114/10000 [00:00<00:43, 228.81it/s]\n",
      "  1%|          | 51/10000 [00:00<00:47, 210.28it/s]\n"
     ]
    }
   ],
   "source": [
    "# pre_seq includes ribozyme\n",
    "pre_seq = 'TTTGTAATGCAGCCGAGGGCGGTTACAAGCCCGCAAAAATAGCAGAGTA'\n",
    "# take mScarlet as an example\n",
    "mScarlet_seq = 'atggtgagcaagggcgaggcagtgatcaaggagttcatgcggttcaaggtgcacatggagggctccatgaacggccacgagttcgagatcgagggcgagggcgagggccgcccctacgagggcacccagaccgccaagctgaaggtgaccaagggtggccccctgcccttctcctgggacatcctgtcccctcagttcatgtacggctccagggccttcaccaagcaccccgccgacatccccgactactataagcagtccttccccgagggcttcaagtgggagcgcgtgatgaacttcgaggacggcggcgccgtgaccgtgacccaggacacctccctggaggacggcaccctgatctacaaggtgaagctccgcggcaccaacttccctcctgacggccccgtaatgcagaagaagacaatgggctgggaagcgtccaccgagcggttgtaccccgaggacggcgtgctgaagggcgacattaagatggccctgcgcctgaaggacggcggccgctacctggcggacttcaagaccacctacaaggccaagaagcccgtgcagatgcccggcgcctacaacgtcgaccgcaagttggacatcacctcccacaacgaggactacaccgtggtggaacagtacgaacgctccgagggccgccactccaccggcggcatggacgagctgtacaagtaa'\n",
    "stem_loop_seq = 'AAACACCCACCACAATTTCCACCGTTTCCCGACGCTTCGGCGTCGGG'\n",
    "post_seq = mScarlet_seq + stem_loop_seq\n",
    "dG_target_list = [-10., -7., -5., -3., 0., 2., 5., 8., 10.]\n",
    "dG_total_list = []\n",
    "RBS_list = []\n",
    "for dG_target in dG_target_list:\n",
    "    dG_total, RBS, estimator, iterations = rb.utils.monte_carlo_rbs(pre_seq, post_seq, dG_target=dG_target)\n",
    "    dG_total_list.append(dG_total)\n",
    "    RBS_list.append(RBS)"
   ]
  },
  {
   "cell_type": "code",
   "execution_count": 7,
   "metadata": {},
   "outputs": [
    {
     "data": {
      "text/plain": [
       "['AAATTCAAAATAAGGAGGTTAACGA',\n",
       " 'AGGACGAAGAGACAAAATAGGGAGGAAGATAGA',\n",
       " 'GTAAGAGCTAATTAAGGAGAAGCAACAG',\n",
       " 'AGGCCGGACGGCGTCAACGAAAAAGAGGTTCGA',\n",
       " 'TCTGATAAACAAGAAGAGGCAGACGAAACC',\n",
       " 'ATACACTAAATTAGTAAAATAAGATAAATAAT',\n",
       " 'CTAGAAGAAAATAAGAATAGCAATTAATAAAAT',\n",
       " 'AGGGAGGGCTACCCCCTTCCCGGGGGGGGT',\n",
       " 'ATAGAACAACACCTATCCCATACACAAGCAGAGT']"
      ]
     },
     "execution_count": 7,
     "metadata": {},
     "output_type": "execute_result"
    }
   ],
   "source": [
    "RBS_list"
   ]
  },
  {
   "cell_type": "code",
   "execution_count": 3,
   "metadata": {},
   "outputs": [
    {
     "name": "stderr",
     "output_type": "stream",
     "text": [
      "  0%|          | 36/10000 [00:00<00:00, 14383.21it/s]\n",
      "  0%|          | 24/10000 [00:00<00:00, 14234.06it/s]\n",
      "  0%|          | 4/10000 [00:00<00:00, 11765.23it/s]\n",
      "  0%|          | 11/10000 [00:00<00:00, 14660.74it/s]\n",
      "  0%|          | 44/10000 [00:00<00:00, 13613.85it/s]\n",
      "  0%|          | 41/10000 [00:00<00:00, 14407.38it/s]\n",
      "  1%|          | 83/10000 [00:00<00:00, 10962.57it/s]\n"
     ]
    }
   ],
   "source": [
    "dG_target_list = [-2., -3., -4., -5., -6., -7., -10.]\n",
    "dG_total_list = []\n",
    "stem_loop_list = []\n",
    "for dG_target in dG_target_list:\n",
    "    dG_stem_loop, stem_loop, estimator, iterations = rb.utils.monte_carlo_stem_loop(dG_target=dG_target)\n",
    "    dG_total_list.append(dG_stem_loop)\n",
    "    stem_loop_list.append(stem_loop)"
   ]
  },
  {
   "cell_type": "code",
   "execution_count": 4,
   "metadata": {},
   "outputs": [
    {
     "data": {
      "text/plain": [
       "['AGGAGTTTTCCG',\n",
       " 'GTCTGCTTTAGGCGTGC',\n",
       " 'GATGCTTGGGCGTC',\n",
       " 'GACGCTTCGGGCGTT',\n",
       " 'AGATGGACGTTGCGTCCT',\n",
       " 'CGACACATCGGTGTCG',\n",
       " 'GGCGGCGCCAACATGCGTCGT']"
      ]
     },
     "execution_count": 4,
     "metadata": {},
     "output_type": "execute_result"
    }
   ],
   "source": [
    "stem_loop_list"
   ]
  }
 ],
 "metadata": {
  "kernelspec": {
   "display_name": "rna",
   "language": "python",
   "name": "python3"
  },
  "language_info": {
   "codemirror_mode": {
    "name": "ipython",
    "version": 3
   },
   "file_extension": ".py",
   "mimetype": "text/x-python",
   "name": "python",
   "nbconvert_exporter": "python",
   "pygments_lexer": "ipython3",
   "version": "3.10.12"
  },
  "orig_nbformat": 4
 },
 "nbformat": 4,
 "nbformat_minor": 2
}
