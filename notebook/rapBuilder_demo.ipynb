{
 "cells": [
  {
   "cell_type": "code",
   "execution_count": 19,
   "metadata": {},
   "outputs": [
    {
     "name": "stdout",
     "output_type": "stream",
     "text": [
      "Looking in indexes: https://pypi.tuna.tsinghua.edu.cn/simple\n",
      "Collecting rapBuilder==0.3.4\n",
      "  Downloading https://pypi.tuna.tsinghua.edu.cn/packages/9f/d0/9ddf91ade630afd31fe494363a8fe924376a6fe78c68c380c72eecc1ad88/rapBuilder-0.3.4-py3-none-any.whl (22 kB)\n",
      "Requirement already satisfied: ViennaRNA==2.6.3 in /home/czy/anaconda3/envs/soft/lib/python3.10/site-packages (from rapBuilder==0.3.4) (2.6.3)\n",
      "Requirement already satisfied: tqdm in /home/czy/anaconda3/envs/soft/lib/python3.10/site-packages (from rapBuilder==0.3.4) (4.66.1)\n",
      "Requirement already satisfied: scikit-learn==1.3.1 in /home/czy/anaconda3/envs/soft/lib/python3.10/site-packages (from rapBuilder==0.3.4) (1.3.1)\n",
      "Requirement already satisfied: numpy<2.0,>=1.17.3 in /home/czy/anaconda3/envs/soft/lib/python3.10/site-packages/numpy-1.25.2-py3.10-linux-x86_64.egg (from scikit-learn==1.3.1->rapBuilder==0.3.4) (1.25.2)\n",
      "Requirement already satisfied: scipy>=1.5.0 in /home/czy/anaconda3/envs/soft/lib/python3.10/site-packages (from scikit-learn==1.3.1->rapBuilder==0.3.4) (1.11.2)\n",
      "Requirement already satisfied: joblib>=1.1.1 in /home/czy/anaconda3/envs/soft/lib/python3.10/site-packages (from scikit-learn==1.3.1->rapBuilder==0.3.4) (1.3.2)\n",
      "Requirement already satisfied: threadpoolctl>=2.0.0 in /home/czy/anaconda3/envs/soft/lib/python3.10/site-packages (from scikit-learn==1.3.1->rapBuilder==0.3.4) (3.2.0)\n",
      "Installing collected packages: rapBuilder\n",
      "  Attempting uninstall: rapBuilder\n",
      "    Found existing installation: rapBuilder 0.3.3\n",
      "    Uninstalling rapBuilder-0.3.3:\n",
      "      Successfully uninstalled rapBuilder-0.3.3\n",
      "Successfully installed rapBuilder-0.3.4\n"
     ]
    }
   ],
   "source": [
    "!pip install rapBuilder"
   ]
  },
  {
   "cell_type": "code",
   "execution_count": 1,
   "metadata": {},
   "outputs": [],
   "source": [
    "import rapbuilder as rb"
   ]
  },
  {
   "cell_type": "code",
   "execution_count": 6,
   "metadata": {},
   "outputs": [
    {
     "name": "stderr",
     "output_type": "stream",
     "text": [
      "  4%|▍         | 446/10000 [00:01<00:31, 301.84it/s]\n",
      "  1%|          | 102/10000 [00:00<00:32, 307.18it/s]\n",
      "  4%|▎         | 359/10000 [00:01<00:38, 252.60it/s]\n",
      "  2%|▏         | 157/10000 [00:00<00:39, 247.80it/s]\n",
      "  1%|          | 87/10000 [00:00<00:42, 235.21it/s]\n",
      "  1%|          | 76/10000 [00:00<00:34, 285.59it/s]\n",
      "  0%|          | 8/10000 [00:00<00:40, 244.51it/s]\n",
      "  1%|          | 114/10000 [00:00<00:43, 228.81it/s]\n",
      "  1%|          | 51/10000 [00:00<00:47, 210.28it/s]\n"
     ]
    }
   ],
   "source": [
    "# pre_seq includes ribozyme\n",
    "pre_seq = 'TTTGTAATGCAGCCGAGGGCGGTTACAAGCCCGCAAAAATAGCAGAGTA'\n",
    "# take mScarlet as an example\n",
    "mScarlet_seq = 'atggtgagcaagggcgaggcagtgatcaaggagttcatgcggttcaaggtgcacatggagggctccatgaacggccacgagttcgagatcgagggcgagggcgagggccgcccctacgagggcacccagaccgccaagctgaaggtgaccaagggtggccccctgcccttctcctgggacatcctgtcccctcagttcatgtacggctccagggccttcaccaagcaccccgccgacatccccgactactataagcagtccttccccgagggcttcaagtgggagcgcgtgatgaacttcgaggacggcggcgccgtgaccgtgacccaggacacctccctggaggacggcaccctgatctacaaggtgaagctccgcggcaccaacttccctcctgacggccccgtaatgcagaagaagacaatgggctgggaagcgtccaccgagcggttgtaccccgaggacggcgtgctgaagggcgacattaagatggccctgcgcctgaaggacggcggccgctacctggcggacttcaagaccacctacaaggccaagaagcccgtgcagatgcccggcgcctacaacgtcgaccgcaagttggacatcacctcccacaacgaggactacaccgtggtggaacagtacgaacgctccgagggccgccactccaccggcggcatggacgagctgtacaagtaa'\n",
    "stem_loop_seq = 'AAACACCCACCACAATTTCCACCGTTTCCCGACGCTTCGGCGTCGGG'\n",
    "post_seq = mScarlet_seq + stem_loop_seq\n",
    "dG_target_list = [-10., -7., -5., -3., 0., 2., 5., 8., 10.]\n",
    "dG_total_list = []\n",
    "RBS_list = []\n",
    "for dG_target in dG_target_list:\n",
    "    dG_total, RBS, estimator, iterations = rb.utils.monte_carlo_rbs(pre_seq, post_seq, dG_target=dG_target)\n",
    "    dG_total_list.append(dG_total)\n",
    "    RBS_list.append(RBS)"
   ]
  },
  {
   "cell_type": "code",
   "execution_count": 7,
   "metadata": {},
   "outputs": [
    {
     "data": {
      "text/plain": [
       "['AAATTCAAAATAAGGAGGTTAACGA',\n",
       " 'AGGACGAAGAGACAAAATAGGGAGGAAGATAGA',\n",
       " 'GTAAGAGCTAATTAAGGAGAAGCAACAG',\n",
       " 'AGGCCGGACGGCGTCAACGAAAAAGAGGTTCGA',\n",
       " 'TCTGATAAACAAGAAGAGGCAGACGAAACC',\n",
       " 'ATACACTAAATTAGTAAAATAAGATAAATAAT',\n",
       " 'CTAGAAGAAAATAAGAATAGCAATTAATAAAAT',\n",
       " 'AGGGAGGGCTACCCCCTTCCCGGGGGGGGT',\n",
       " 'ATAGAACAACACCTATCCCATACACAAGCAGAGT']"
      ]
     },
     "execution_count": 7,
     "metadata": {},
     "output_type": "execute_result"
    }
   ],
   "source": [
    "RBS_list"
   ]
  },
  {
   "cell_type": "code",
   "execution_count": 4,
   "metadata": {},
   "outputs": [
    {
     "name": "stderr",
     "output_type": "stream",
     "text": [
      "  0%|          | 19/10000 [00:00<00:02, 3975.25it/s]\n",
      "  0%|          | 2/10000 [00:00<00:03, 2834.95it/s]\n",
      "  0%|          | 20/10000 [00:00<00:02, 3482.34it/s]\n",
      "  0%|          | 5/10000 [00:00<00:03, 2961.24it/s]\n",
      "  0%|          | 3/10000 [00:00<00:05, 1798.07it/s]\n",
      "  1%|▏         | 143/10000 [00:00<00:03, 2804.47it/s]\n",
      "  1%|▏         | 142/10000 [00:00<00:03, 2577.17it/s]\n"
     ]
    }
   ],
   "source": [
    "dG_target_list = [-2., -3., -4., -5., -6., -7., -10.]\n",
    "dG_total_list = []\n",
    "stem_loop_list = []\n",
    "for dG_target in dG_target_list:\n",
    "    dG_stem_loop, stem_loop, estimator, iterations = rb.utils.monte_carlo_stem_loop(dG_target=dG_target)\n",
    "    dG_total_list.append(dG_stem_loop)\n",
    "    stem_loop_list.append(stem_loop)"
   ]
  },
  {
   "cell_type": "code",
   "execution_count": 5,
   "metadata": {},
   "outputs": [
    {
     "data": {
      "text/plain": [
       "['CCCCGTCGGCTGCT',\n",
       " 'GACGCTTCGTCGTC',\n",
       " 'CACACCTGGGCGT',\n",
       " 'GACGCTTCGGCGGC',\n",
       " 'CGACGCTTCGGTGTCC',\n",
       " 'TCAGGCCGCAGTGGGTC',\n",
       " 'ACTGGGGGGATCGAGGTCTTT']"
      ]
     },
     "execution_count": 5,
     "metadata": {},
     "output_type": "execute_result"
    }
   ],
   "source": [
    "stem_loop_list"
   ]
  },
  {
   "cell_type": "code",
   "execution_count": 3,
   "metadata": {},
   "outputs": [
    {
     "name": "stderr",
     "output_type": "stream",
     "text": [
      "  0%|          | 0/10000 [00:00<?, ?it/s]"
     ]
    },
    {
     "name": "stderr",
     "output_type": "stream",
     "text": [
      "  1%|          | 79/10000 [00:00<00:04, 2153.96it/s]\n"
     ]
    }
   ],
   "source": [
    "dG_stem_loop, stem_loop, estimator, iterations = rb.utils.monte_carlo_stem_loop(TIR_target=3)"
   ]
  },
  {
   "cell_type": "code",
   "execution_count": null,
   "metadata": {},
   "outputs": [],
   "source": []
  }
 ],
 "metadata": {
  "kernelspec": {
   "display_name": "rna",
   "language": "python",
   "name": "python3"
  },
  "language_info": {
   "codemirror_mode": {
    "name": "ipython",
    "version": 3
   },
   "file_extension": ".py",
   "mimetype": "text/x-python",
   "name": "python",
   "nbconvert_exporter": "python",
   "pygments_lexer": "ipython3",
   "version": "3.10.12"
  },
  "orig_nbformat": 4
 },
 "nbformat": 4,
 "nbformat_minor": 2
}
