{
 "cells": [
  {
   "cell_type": "code",
   "execution_count": 3,
   "metadata": {},
   "outputs": [
    {
     "name": "stdout",
     "output_type": "stream",
     "text": [
      "Requirement already satisfied: rapBuilder in /home/czy/anaconda3/envs/soft/lib/python3.10/site-packages (0.1.2)\n",
      "Requirement already satisfied: ViennaRNA==2.6.3 in /home/czy/anaconda3/envs/soft/lib/python3.10/site-packages (from rapBuilder) (2.6.3)\n",
      "Requirement already satisfied: tqdm in /home/czy/anaconda3/envs/soft/lib/python3.10/site-packages (from rapBuilder) (4.65.0)\n"
     ]
    }
   ],
   "source": [
    "!pip install rapBuilder"
   ]
  },
  {
   "cell_type": "code",
   "execution_count": 4,
   "metadata": {},
   "outputs": [],
   "source": [
    "import rapbuilder as rb"
   ]
  },
  {
   "cell_type": "code",
   "execution_count": 2,
   "metadata": {},
   "outputs": [
    {
     "ename": "AttributeError",
     "evalue": "module 'rapbuilder' has no attribute 'version'",
     "output_type": "error",
     "traceback": [
      "\u001b[0;31m---------------------------------------------------------------------------\u001b[0m",
      "\u001b[0;31mAttributeError\u001b[0m                            Traceback (most recent call last)",
      "Cell \u001b[0;32mIn[2], line 1\u001b[0m\n\u001b[0;32m----> 1\u001b[0m rb\u001b[39m.\u001b[39;49mversion\n",
      "\u001b[0;31mAttributeError\u001b[0m: module 'rapbuilder' has no attribute 'version'"
     ]
    }
   ],
   "source": [
    "rb.version"
   ]
  },
  {
   "cell_type": "code",
   "execution_count": null,
   "metadata": {},
   "outputs": [],
   "source": [
    "rb.utils.monte_carlo_rbs()"
   ]
  },
  {
   "cell_type": "code",
   "execution_count": 10,
   "metadata": {},
   "outputs": [
    {
     "name": "stderr",
     "output_type": "stream",
     "text": [
      " 28%|██▊       | 2750/10000 [00:10<00:26, 271.17it/s]\n",
      "  3%|▎         | 272/10000 [00:01<00:38, 255.37it/s]\n",
      "  1%|          | 106/10000 [00:00<00:42, 233.35it/s]\n",
      "  1%|▏         | 130/10000 [00:00<00:37, 262.80it/s]\n",
      "  0%|          | 20/10000 [00:00<00:38, 256.99it/s]\n",
      "  0%|          | 50/10000 [00:00<00:37, 263.87it/s]\n",
      "  1%|▏         | 126/10000 [00:00<00:39, 249.24it/s]\n",
      "  0%|          | 47/10000 [00:00<00:40, 248.28it/s]\n",
      "  0%|          | 38/10000 [00:00<00:53, 185.93it/s]\n"
     ]
    }
   ],
   "source": [
    "# pre_seq includes stem-loop and ribozyme\n",
    "pre_seq = 'CCCGACGCTTCGGCGTCGGGTTTGTAATGCAGCCGAGGGCGGTTACAAGCCCGCAAAAATAGCAGAGTACAAATAAATAAT'\n",
    "# take mScarlet as an example\n",
    "mScarlet_seq = 'atggtgagcaagggcgaggcagtgatcaaggagttcatgcggttcaaggtgcacatggagggctccatgaacggccacgagttcgagatcgagggcgagggcgagggccgcccctacgagggcacccagaccgccaagctgaaggtgaccaagggtggccccctgcccttctcctgggacatcctgtcccctcagttcatgtacggctccagggccttcaccaagcaccccgccgacatccccgactactataagcagtccttccccgagggcttcaagtgggagcgcgtgatgaacttcgaggacggcggcgccgtgaccgtgacccaggacacctccctggaggacggcaccctgatctacaaggtgaagctccgcggcaccaacttccctcctgacggccccgtaatgcagaagaagacaatgggctgggaagcgtccaccgagcggttgtaccccgaggacggcgtgctgaagggcgacattaagatggccctgcgcctgaaggacggcggccgctacctggcggacttcaagaccacctacaaggccaagaagcccgtgcagatgcccggcgcctacaacgtcgaccgcaagttggacatcacctcccacaacgaggactacaccgtggtggaacagtacgaacgctccgagggccgccactccaccggcggcatggacgagctgtacaagtaa'\n",
    "dG_target_list = [-10., -7., -5., -3., 0., 2., 5., 8., 10.]\n",
    "dG_total_list = []\n",
    "RBS_list = []\n",
    "for dG_target in dG_target_list:\n",
    "    dG_total, RBS, estimator, iterations =rb.utils.monte_carlo_rbs(pre_seq, mScarlet_seq, dG_target=dG_target)\n",
    "    dG_total_list.append(dG_total)\n",
    "    RBS_list.append(RBS)"
   ]
  },
  {
   "cell_type": "code",
   "execution_count": 11,
   "metadata": {},
   "outputs": [
    {
     "data": {
      "text/plain": [
       "['TATCAGTACTGAGGAGGTAAAGA',\n",
       " 'AGGAACATAAAGGGAGGGACAG',\n",
       " 'ACAACGCGTTATAAGGAGGTACGGTAATACGGA',\n",
       " 'GCACACAGGGATATAACAAGCAGGCAGGAAAAAGT',\n",
       " 'AGGACGACATAAGAGACAAACAGGCATAAAAGG',\n",
       " 'CCGCAGACTCGCGAGACAAGAGGAGTAAAGCGGT',\n",
       " 'ATCTCCATATATAGACAGGCACGTACGAT',\n",
       " 'TACCCCACAACAGGATAAAACCGGTAAGGACGG',\n",
       " 'GTTATATAAGCAATACATATCGAGCAATTTTCGAT']"
      ]
     },
     "execution_count": 11,
     "metadata": {},
     "output_type": "execute_result"
    }
   ],
   "source": [
    "RBS_list"
   ]
  }
 ],
 "metadata": {
  "kernelspec": {
   "display_name": "rna",
   "language": "python",
   "name": "python3"
  },
  "language_info": {
   "codemirror_mode": {
    "name": "ipython",
    "version": 3
   },
   "file_extension": ".py",
   "mimetype": "text/x-python",
   "name": "python",
   "nbconvert_exporter": "python",
   "pygments_lexer": "ipython3",
   "version": "3.10.12"
  },
  "orig_nbformat": 4
 },
 "nbformat": 4,
 "nbformat_minor": 2
}
